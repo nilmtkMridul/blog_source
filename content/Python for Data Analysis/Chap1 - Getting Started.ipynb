{
 "metadata": {
  "kernelspec": {
   "codemirror_mode": {
    "name": "ipython",
    "version": 2
   },
   "display_name": "IPython (Python 2)",
   "language": "python",
   "name": "python2"
  },
  "name": "",
  "signature": "sha256:a3f954c6e5429c677769b3b5fe5bd25aba5d4ad88b3740c7495492c6feb71321"
 },
 "nbformat": 3,
 "nbformat_minor": 0,
 "worksheets": [
  {
   "cells": [
    {
     "cell_type": "code",
     "collapsed": false,
     "input": [
      "import json\n",
      "obj = \"\"\"{\n",
      "    \"glossary\": {\n",
      "        \"title\": \"example glossary\",\n",
      "\t\t\"GlossDiv\": {\n",
      "            \"title\": \"S\",\n",
      "\t\t\t\"GlossList\": {\n",
      "                \"GlossEntry\": {\n",
      "                    \"ID\": \"SGML\",\n",
      "\t\t\t\t\t\"SortAs\": \"SGML\",\n",
      "\t\t\t\t\t\"GlossTerm\": \"Standard Generalized Markup Language\",\n",
      "\t\t\t\t\t\"Acronym\": \"SGML\",\n",
      "\t\t\t\t\t\"Abbrev\": \"ISO 8879:1986\",\n",
      "\t\t\t\t\t\"GlossDef\": {\n",
      "                        \"para\": \"A meta-markup language, used to create markup languages such as DocBook.\",\n",
      "\t\t\t\t\t\t\"GlossSeeAlso\": [\"GML\", \"XML\"]\n",
      "                    },\n",
      "\t\t\t\t\t\"GlossSee\": \"markup\"\n",
      "                }\n",
      "            }\n",
      "        }\n",
      "    }\n",
      "}\"\"\"\n",
      "record = json.loads(obj)"
     ],
     "language": "python",
     "metadata": {},
     "outputs": [],
     "prompt_number": 3
    },
    {
     "cell_type": "code",
     "collapsed": false,
     "input": [
      "from pandas import DataFrame, Series\n",
      "import pandas as pd\n",
      "frame = DataFrame(record)"
     ],
     "language": "python",
     "metadata": {},
     "outputs": [],
     "prompt_number": 4
    },
    {
     "cell_type": "code",
     "collapsed": false,
     "input": [
      "frame"
     ],
     "language": "python",
     "metadata": {},
     "outputs": [
      {
       "html": [
        "<div style=\"max-height:1000px;max-width:1500px;overflow:auto;\">\n",
        "<table border=\"1\" class=\"dataframe\">\n",
        "  <thead>\n",
        "    <tr style=\"text-align: right;\">\n",
        "      <th></th>\n",
        "      <th>glossary</th>\n",
        "    </tr>\n",
        "  </thead>\n",
        "  <tbody>\n",
        "    <tr>\n",
        "      <th>GlossDiv</th>\n",
        "      <td> {u'GlossList': {u'GlossEntry': {u'GlossDef': {...</td>\n",
        "    </tr>\n",
        "    <tr>\n",
        "      <th>title</th>\n",
        "      <td>                                  example glossary</td>\n",
        "    </tr>\n",
        "  </tbody>\n",
        "</table>\n",
        "</div>"
       ],
       "metadata": {},
       "output_type": "pyout",
       "prompt_number": 5,
       "text": [
        "                                                   glossary\n",
        "GlossDiv  {u'GlossList': {u'GlossEntry': {u'GlossDef': {...\n",
        "title                                      example glossary"
       ]
      }
     ],
     "prompt_number": 5
    },
    {
     "cell_type": "code",
     "collapsed": false,
     "input": [
      "frame['glossary'][:-1]"
     ],
     "language": "python",
     "metadata": {},
     "outputs": [
      {
       "metadata": {},
       "output_type": "pyout",
       "prompt_number": 7,
       "text": [
        "GlossDiv    {u'GlossList': {u'GlossEntry': {u'GlossDef': {...\n",
        "Name: glossary, dtype: object"
       ]
      }
     ],
     "prompt_number": 7
    }
   ],
   "metadata": {}
  }
 ]
}